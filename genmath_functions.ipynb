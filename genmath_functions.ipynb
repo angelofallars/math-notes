{
 "cells": [
  {
   "cell_type": "code",
   "execution_count": 1,
   "id": "fc1d2092-8fb0-4ac5-ab47-4c3028442c67",
   "metadata": {},
   "outputs": [],
   "source": [
    "import matplotlib.pyplot as plt\n",
    "import numpy as np"
   ]
  },
  {
   "cell_type": "code",
   "execution_count": 29,
   "id": "1930e069-09c0-40a3-aa9d-3695ea2e6e00",
   "metadata": {},
   "outputs": [],
   "source": [
    "quadratic =  lambda a, x, b : a * x ** b\n",
    "rational = lambda x : (5 * x ** 2 + 2 * x + 7) / (x ** 2 - 5 * x - 14)\n",
    "rational2 = lambda x : (x ** 2 + 1) / x"
   ]
  },
  {
   "cell_type": "code",
   "execution_count": 37,
   "id": "d0fa0cc8-2fe8-424d-8189-56a691e076b5",
   "metadata": {},
   "outputs": [
    {
     "data": {
      "image/png": "[encoded data removed]",
      "text/plain": [
       "<Figure size 432x288 with 1 Axes>"
      ]
     },
     "metadata": {
      "needs_background": "light"
     },
     "output_type": "display_data"
    }
   ],
   "source": [
    "a = 1\n",
    "x = np.arange(-50, 50, 0.2)\n",
    "b = 1/2\n",
    "\n",
    "y = rational2(x)\n",
    "\n",
    "plt.plot(x, y)\n",
    "\n",
    "plt.plot([-100, 100], [0, 0], color='gray', ls='--', lw=2)\n",
    "plt.plot([0, 0], [-100, 100], color='gray', ls='--', lw=2)\n",
    "plt.xticks(np.arange(-100, 100, 10))\n",
    "plt.yticks(np.arange(-100, 100, 10))\n",
    "plt.xlim([-20, 20])\n",
    "plt.ylim([-20, 20])\n",
    "axes = plt.gca()\n",
    "plt.grid()\n",
    "axes.set_aspect('equal')\n",
    "plt.show()"
   ]
  }
 ],
 "metadata": {
  "kernelspec": {
   "display_name": "Python 3 (ipykernel)",
   "language": "python",
   "name": "python3"
  },
  "language_info": {
   "codemirror_mode": {
    "name": "ipython",
    "version": 3
   },
   "file_extension": ".py",
   "mimetype": "text/x-python",
   "name": "python",
   "nbconvert_exporter": "python",
   "pygments_lexer": "ipython3",
   "version": "3.9.6"
  }
 },
 "nbformat": 4,
 "nbformat_minor": 5
}
