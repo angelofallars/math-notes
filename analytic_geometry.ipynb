{
 "cells": [
  {
   "cell_type": "code",
   "execution_count": 32,
   "id": "e089a75c-4c6e-4ba1-9dda-c6e1dc233542",
   "metadata": {},
   "outputs": [],
   "source": [
    "import math as m\n",
    "import matplotlib.pyplot as plt\n",
    "import numpy as np"
   ]
  },
  {
   "cell_type": "code",
   "execution_count": 19,
   "id": "f24ec55a-2e17-46f6-8520-c481879357b3",
   "metadata": {},
   "outputs": [],
   "source": [
    "def distance(p1, p2):\n",
    "    '''\n",
    "    Get the distance between two points using\n",
    "    the Pythagorean theorem.'''\n",
    "    \n",
    "    x_distance = abs(p2[0] - p1[0])\n",
    "    y_distance = abs(p2[1] - p1[1])\n",
    "    \n",
    "    return m.sqrt(x_distance ** 2 + y_distance ** 2)"
   ]
  },
  {
   "cell_type": "code",
   "execution_count": 24,
   "id": "25e42ee3-aad1-4edd-876c-b1143496b865",
   "metadata": {},
   "outputs": [],
   "source": [
    "def midpoint(p1, p2):\n",
    "    \n",
    "    mid_x = (p1[0] + p2[0]) / 2\n",
    "    mid_y = (p1[1] + p2[1]) / 2\n",
    "    \n",
    "    return [mid_x, mid_y]"
   ]
  },
  {
   "cell_type": "code",
   "execution_count": 26,
   "id": "68426bde-6dca-48aa-b84d-ec2cadb0fcb5",
   "metadata": {},
   "outputs": [],
   "source": [
    "def slope(p1, p2):\n",
    "    return (p2[1] - p1[1]) / (p2[0] - p1[0])"
   ]
  },
  {
   "cell_type": "code",
   "execution_count": 28,
   "id": "e15b1073-0c27-4281-a543-671736ac1f9f",
   "metadata": {},
   "outputs": [
    {
     "data": {
      "text/plain": [
       "-1.125"
      ]
     },
     "execution_count": 28,
     "metadata": {},
     "output_type": "execute_result"
    }
   ],
   "source": [
    "slope((-2, -1), (1, 3))\n",
    "slope((-3, 7), (5, -2))"
   ]
  },
  {
   "cell_type": "code",
   "execution_count": 37,
   "id": "d65f4c82-a4ca-4c63-9189-5afd705eb6c2",
   "metadata": {},
   "outputs": [
    {
     "data": {
      "image/png": "[encoded data removed]",
      "text/plain": [
       "<Figure size 432x288 with 1 Axes>"
      ]
     },
     "metadata": {
      "needs_background": "light"
     },
     "output_type": "display_data"
    }
   ],
   "source": [
    "p1 = np.array([-3, 7])\n",
    "p2 = np.array([1, 3])\n",
    "\n",
    "plt.plot(p1, p2)\n",
    "\n",
    "# Big gray grid stuff\n",
    "plt.plot([-100, 100], [0, 0], color='gray', ls='--', lw=2)\n",
    "plt.plot([0, 0], [-100, 100], color='gray', ls='--', lw=2)\n",
    "\n",
    "plt.grid()\n",
    "plt.xticks(np.arange(-10, 10))\n",
    "plt.yticks(np.arange(-10, 10))\n",
    "plt.xlim([-10, 10])\n",
    "plt.ylim([-10, 10])\n",
    "axes = plt.gca()\n",
    "axes.set_aspect('equal')\n",
    "plt.show()"
   ]
  }
 ],
 "metadata": {
  "kernelspec": {
   "display_name": "Python 3 (ipykernel)",
   "language": "python",
   "name": "python3"
  },
  "language_info": {
   "codemirror_mode": {
    "name": "ipython",
    "version": 3
   },
   "file_extension": ".py",
   "mimetype": "text/x-python",
   "name": "python",
   "nbconvert_exporter": "python",
   "pygments_lexer": "ipython3",
   "version": "3.9.6"
  }
 },
 "nbformat": 4,
 "nbformat_minor": 5
}
