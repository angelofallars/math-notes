{
 "cells": [
  {
   "cell_type": "markdown",
   "id": "bb31bf3b-dce5-43ca-92ff-ba8f2055d94c",
   "metadata": {},
   "source": [
    "### **MATH04** - Systems of Equations\n",
    "---\n",
    "My personal notes for lecture 2 of MATH04 - Precalculus"
   ]
  },
  {
   "cell_type": "code",
   "execution_count": 36,
   "id": "d9b85b17-f126-4806-a22b-7b3088623d19",
   "metadata": {},
   "outputs": [],
   "source": [
    "import matplotlib.pyplot as plt\n",
    "import numpy as np"
   ]
  },
  {
   "cell_type": "markdown",
   "id": "12a42f06-cde4-484f-8919-389d36b455e4",
   "metadata": {},
   "source": [
    "A system of equations are two or more equations with a shared solution set.\n",
    "\n",
    "Example:<br>\n",
    "$2x + 5y = 10$<br>\n",
    "$3x - 8y = 15$<br>\n",
    "The solution set for this is $(5, 0)$, since substituting $x$ and $y$ for each of these values will satisfy the equation."
   ]
  },
  {
   "cell_type": "code",
   "execution_count": 3,
   "id": "8bf7ad3f-96c0-4cc3-831d-fad54d8b4013",
   "metadata": {},
   "outputs": [],
   "source": [
    "# Intercept functions\n",
    "x_intercept = lambda a, b, c : c / a\n",
    "y_intercept = lambda a, b, c : c / b\n",
    "\n",
    "# Slope function\n",
    "slope = lambda points: (points[1][1] - points[0][1]) / (points[1][0] - points[0][0])\n",
    "\n",
    "\n",
    "eq1_intercepts = np.zeros((2, 2)) # First equation\n",
    "eq2_intercepts = np.zeros((2, 2)) # Second equation"
   ]
  },
  {
   "cell_type": "markdown",
   "id": "55b15a53-b130-4b38-a645-973ec7f3bb5e",
   "metadata": {},
   "source": [
    "We will find the solution set in this system of equations:\n",
    "\n",
    "$7x + 10y = 36$<br>\n",
    "$-2x + 1y = 9$\n",
    "\n",
    "How will we find it? By graphing the two equations by taking their intercepts and looking at where they intersect.\n",
    "\n",
    "Note: Here the variables a, b, c refers to the coefficients a, b, c in an equation such as:<br>\n",
    "$ax + bx = c$"
   ]
  },
  {
   "cell_type": "code",
   "execution_count": 43,
   "id": "d9fa668a-b523-4313-9033-766f6d69c7fa",
   "metadata": {},
   "outputs": [
    {
     "data": {
      "image/png": "[encoded data removed]",
      "text/plain": [
       "<Figure size 432x288 with 1 Axes>"
      ]
     },
     "metadata": {
      "needs_background": "light"
     },
     "output_type": "display_data"
    }
   ],
   "source": [
    "# First equation\n",
    "a = 7\n",
    "b = 10\n",
    "c = 36\n",
    "\n",
    "eq1_intercepts[0][0] = x_intercept(a, b, c)\n",
    "eq1_intercepts[1][1] = y_intercept(a, b, c)\n",
    "\n",
    "# Second equation\n",
    "a = -2\n",
    "b = 1\n",
    "c = 9\n",
    "    \n",
    "eq2_intercepts[0][0] = x_intercept(a, b, c)\n",
    "eq2_intercepts[1][1] = y_intercept(a, b, c)\n",
    "\n",
    "\n",
    "plt.plot([-100, 100], [0, 0], color='gray', ls='--', lw=2)\n",
    "plt.plot([0, 0], [-100, 100], color='gray', ls='--', lw=2)\n",
    "\n",
    "# Graph the system of equations\n",
    "x_line = plt.axline(eq1_intercepts[0], slope=slope(eq1_intercepts), color='steelblue')\n",
    "y_line = plt.axline(eq2_intercepts[0], slope=slope(eq2_intercepts), color='orange')\n",
    "\n",
    "plt.legend([x_line, y_line], ['x', 'y'], loc='upper left')\n",
    "plt.grid()\n",
    "plt.xticks(np.arange(-10, 10))\n",
    "plt.yticks(np.arange(-10, 10))\n",
    "plt.xlim([-8, 5])\n",
    "plt.ylim([-2, 8])\n",
    "axes = plt.gca()\n",
    "axes.set_aspect('equal')\n",
    "plt.show()"
   ]
  },
  {
   "cell_type": "markdown",
   "id": "39b29b47-6bed-4145-a32e-bee261d02f96",
   "metadata": {},
   "source": [
    "Here the two equations intersect at $x = -2$ and $y = 5$, so our solution set to this:\n",
    "\n",
    "$7x + 10y = 36$<br>\n",
    "$-2x + 1y = 9$\n",
    "\n",
    "Is $(-2, 5)$.\n",
    "\n",
    "Since there is only one solution (the lines only intersect at one point), this is an independent consistent system."
   ]
  }
 ],
 "metadata": {
  "kernelspec": {
   "display_name": "Python 3 (ipykernel)",
   "language": "python",
   "name": "python3"
  },
  "language_info": {
   "codemirror_mode": {
    "name": "ipython",
    "version": 3
   },
   "file_extension": ".py",
   "mimetype": "text/x-python",
   "name": "python",
   "nbconvert_exporter": "python",
   "pygments_lexer": "ipython3",
   "version": "3.9.6"
  }
 },
 "nbformat": 4,
 "nbformat_minor": 5
}
