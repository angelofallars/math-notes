{
 "cells": [
  {
   "cell_type": "code",
   "execution_count": 1,
   "id": "5fc66582-f031-4216-a3f3-3b0a9cb838d0",
   "metadata": {},
   "outputs": [],
   "source": [
    "import math as m"
   ]
  },
  {
   "cell_type": "markdown",
   "id": "b969791b-2234-4fbf-978d-c285943518e7",
   "metadata": {},
   "source": [
    "Notes for MATH04 - Pre-Calculus"
   ]
  },
  {
   "cell_type": "code",
   "execution_count": 10,
   "id": "6d279b31-9cfb-4a75-8899-3f9966cbef66",
   "metadata": {},
   "outputs": [],
   "source": [
    "def quadratic(a, b, c) -> list:\n",
    "    '''Inputs in the a, b, c of a quadratic equation like\n",
    "    ax^2 + bx + c = 0\n",
    "    \n",
    "    Returns the solution set\n",
    "    '''\n",
    "    x1 = (-b + m.sqrt(b ** 2 - (4 * a * c))) / (2 * a)\n",
    "    x2 = (-b - m.sqrt(b ** 2 - (4 * a * c))) / (2 * a)\n",
    "    \n",
    "    solution_set = [x1, x2]\n",
    "    solution_set.sort()\n",
    "    \n",
    "    return solution_set"
   ]
  },
  {
   "cell_type": "code",
   "execution_count": 17,
   "id": "34f323f4-e862-4c5d-9c91-cc7bb3ac7542",
   "metadata": {},
   "outputs": [
    {
     "name": "stdout",
     "output_type": "stream",
     "text": [
      "[-2.0, 6.0]\n"
     ]
    }
   ],
   "source": [
    "print(quadratic(1, -4, -12))"
   ]
  },
  {
   "cell_type": "code",
   "execution_count": 18,
   "id": "af49b369-a991-4e1e-b524-b399c8972045",
   "metadata": {},
   "outputs": [
    {
     "data": {
      "text/plain": [
       "[-1.0, 3.0]"
      ]
     },
     "execution_count": 18,
     "metadata": {},
     "output_type": "execute_result"
    }
   ],
   "source": [
    "quadratic(1, -2, -3)"
   ]
  },
  {
   "cell_type": "code",
   "execution_count": 38,
   "id": "c51c434e-36cb-49f7-b2de-4d75ec149ba1",
   "metadata": {},
   "outputs": [
    {
     "data": {
      "text/plain": [
       "-8.881784197001252e-16"
      ]
     },
     "execution_count": 38,
     "metadata": {},
     "output_type": "execute_result"
    }
   ],
   "source": [
    "x = m.sqrt(3)\n",
    "\n",
    "(x ** 4) - 2 * (x ** 2) - (3)"
   ]
  },
  {
   "cell_type": "code",
   "execution_count": 42,
   "id": "c9feaf91-52dc-44b0-b61f-dcbc160663a0",
   "metadata": {},
   "outputs": [
    {
     "data": {
      "text/plain": [
       "False"
      ]
     },
     "execution_count": 42,
     "metadata": {},
     "output_type": "execute_result"
    }
   ],
   "source": [
    "x = 16\n",
    "x - 3 * m.sqrt(x) - 4 == 0\n",
    "\n",
    "x = 1\n",
    "x - 3 * m.sqrt(x) - 4 == 0"
   ]
  }
 ],
 "metadata": {
  "kernelspec": {
   "display_name": "Python 3 (ipykernel)",
   "language": "python",
   "name": "python3"
  },
  "language_info": {
   "codemirror_mode": {
    "name": "ipython",
    "version": 3
   },
   "file_extension": ".py",
   "mimetype": "text/x-python",
   "name": "python",
   "nbconvert_exporter": "python",
   "pygments_lexer": "ipython3",
   "version": "3.9.6"
  }
 },
 "nbformat": 4,
 "nbformat_minor": 5
}
